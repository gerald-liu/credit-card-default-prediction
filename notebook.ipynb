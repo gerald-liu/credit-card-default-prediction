{
 "nbformat": 4,
 "nbformat_minor": 2,
 "metadata": {
  "language_info": {
   "name": "python",
   "codemirror_mode": {
    "name": "ipython",
    "version": 3
   },
   "version": "3.6.6-final"
  },
  "orig_nbformat": 2,
  "file_extension": ".py",
  "mimetype": "text/x-python",
  "name": "python",
  "npconvert_exporter": "python",
  "pygments_lexer": "ipython3",
  "version": 3,
  "kernelspec": {
   "name": "python36664bitpy36conda0373fbe9b8644b389824272c4174e4db",
   "display_name": "Python 3.6.6 64-bit ('py36': conda)"
  }
 },
 "cells": [
  {
   "cell_type": "markdown",
   "metadata": {},
   "source": [
    "# Default Payments of Credit Card Clients"
   ],
   "execution_count": null,
   "outputs": []
  },
  {
   "cell_type": "code",
   "execution_count": 1,
   "metadata": {},
   "outputs": [],
   "source": [
    "import pandas as pd"
   ]
  },
  {
   "cell_type": "code",
   "execution_count": 2,
   "metadata": {},
   "outputs": [],
   "source": [
    "df = pd.read_csv('data.csv', index_col='ID')"
   ]
  },
  {
   "cell_type": "code",
   "execution_count": 3,
   "metadata": {},
   "outputs": [
    {
     "output_type": "stream",
     "name": "stdout",
     "text": "<class 'pandas.core.frame.DataFrame'>\nInt64Index: 30000 entries, 1 to 30000\nData columns (total 24 columns):\n #   Column                      Non-Null Count  Dtype  \n---  ------                      --------------  -----  \n 0   LIMIT_BAL                   30000 non-null  float64\n 1   SEX                         30000 non-null  int64  \n 2   EDUCATION                   30000 non-null  int64  \n 3   MARRIAGE                    30000 non-null  int64  \n 4   AGE                         30000 non-null  int64  \n 5   PAY_0                       30000 non-null  int64  \n 6   PAY_2                       30000 non-null  int64  \n 7   PAY_3                       30000 non-null  int64  \n 8   PAY_4                       30000 non-null  int64  \n 9   PAY_5                       30000 non-null  int64  \n 10  PAY_6                       30000 non-null  int64  \n 11  BILL_AMT1                   30000 non-null  float64\n 12  BILL_AMT2                   30000 non-null  float64\n 13  BILL_AMT3                   30000 non-null  float64\n 14  BILL_AMT4                   30000 non-null  float64\n 15  BILL_AMT5                   30000 non-null  float64\n 16  BILL_AMT6                   30000 non-null  float64\n 17  PAY_AMT1                    30000 non-null  float64\n 18  PAY_AMT2                    30000 non-null  float64\n 19  PAY_AMT3                    30000 non-null  float64\n 20  PAY_AMT4                    30000 non-null  float64\n 21  PAY_AMT5                    30000 non-null  float64\n 22  PAY_AMT6                    30000 non-null  float64\n 23  default.payment.next.month  30000 non-null  int64  \ndtypes: float64(13), int64(11)\nmemory usage: 5.7 MB\n"
    }
   ],
   "source": [
    "df.info()"
   ]
  }
 ]
}