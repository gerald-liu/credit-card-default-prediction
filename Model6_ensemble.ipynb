{
  "nbformat": 4,
  "nbformat_minor": 0,
  "metadata": {
    "colab": {
      "name": "ensemble.ipynb",
      "provenance": [],
      "collapsed_sections": [],
      "authorship_tag": "ABX9TyOtYhu7KzEzzjw0JfEmwuT0",
      "include_colab_link": true
    },
    "kernelspec": {
      "name": "python3",
      "display_name": "Python 3"
    }
  },
  "cells": [
    {
      "cell_type": "markdown",
      "metadata": {
        "id": "view-in-github",
        "colab_type": "text"
      },
      "source": [
        "<a href=\"https://colab.research.google.com/github/gerald-liu/credit-card-default-prediction/blob/master/Model6_ensemble.ipynb\" target=\"_parent\"><img src=\"https://colab.research.google.com/assets/colab-badge.svg\" alt=\"Open In Colab\"/></a>"
      ]
    },
    {
      "cell_type": "code",
      "metadata": {
        "id": "p23oIAXHADF0",
        "colab_type": "code",
        "colab": {}
      },
      "source": [
        "# Import basic libraries\n",
        "import numpy as np \n",
        "import pandas as pd\n",
        "import joblib # for saving models"
      ],
      "execution_count": 0,
      "outputs": []
    },
    {
      "cell_type": "code",
      "metadata": {
        "id": "7WLc6n7DA4fJ",
        "colab_type": "code",
        "colab": {}
      },
      "source": [
        "# Create lists for relevant numerical features\n",
        "repayments = ['PAY_1', 'PAY_2', 'PAY_3', 'PAY_4', 'PAY_5', 'PAY_6']\n",
        "bill_amounts = ['BILL_AMT1', 'BILL_AMT2', 'BILL_AMT3', 'BILL_AMT4', 'BILL_AMT5', 'BILL_AMT6']\n",
        "payments = ['PAY_AMT1', 'PAY_AMT2', 'PAY_AMT3', 'PAY_AMT4', 'PAY_AMT5', 'PAY_AMT6']"
      ],
      "execution_count": 0,
      "outputs": []
    },
    {
      "cell_type": "code",
      "metadata": {
        "id": "QviOCKRUATwy",
        "colab_type": "code",
        "colab": {}
      },
      "source": [
        "# Load data from GitHub\n",
        "data_url = 'https://raw.githubusercontent.com/gerald-liu/credit-card-default-prediction/master/data/data.csv?token=AIUUIXO7TWYXTCZ3XJ6SAEK6YVR5W'\n",
        "data = pd.read_csv(data_url, index_col = 'ID')"
      ],
      "execution_count": 0,
      "outputs": []
    },
    {
      "cell_type": "code",
      "metadata": {
        "id": "YErZFA8-Aeca",
        "colab_type": "code",
        "colab": {}
      },
      "source": [
        "data = data.rename(columns={'default.payment.next.month': 'def_pay', 'PAY_0': 'PAY_1'})"
      ],
      "execution_count": 0,
      "outputs": []
    },
    {
      "cell_type": "code",
      "metadata": {
        "id": "C63thSiqApT_",
        "colab_type": "code",
        "outputId": "769b5b9c-fa8a-4d7f-8f61-5a7c143e6b5f",
        "colab": {
          "base_uri": "https://localhost:8080/",
          "height": 104
        }
      },
      "source": [
        "mask_edu_good=data['EDUCATION'].isin(range(1,5))\n",
        "data['EDUCATION'].mask(~mask_edu_good,data['EDUCATION'][mask_edu_good].sample(n=(~mask_edu_good).sum(),replace=True).tolist(),inplace=True)\n",
        "\n",
        "data['EDUCATION'].value_counts()"
      ],
      "execution_count": 0,
      "outputs": [
        {
          "output_type": "execute_result",
          "data": {
            "text/plain": [
              "2    14179\n",
              "1    10722\n",
              "3     4975\n",
              "4      124\n",
              "Name: EDUCATION, dtype: int64"
            ]
          },
          "metadata": {
            "tags": []
          },
          "execution_count": 4
        }
      ]
    },
    {
      "cell_type": "code",
      "metadata": {
        "id": "7LPDo8_kAq0r",
        "colab_type": "code",
        "outputId": "1c17ec31-3efb-431a-e8ed-72da08f2aadb",
        "colab": {
          "base_uri": "https://localhost:8080/",
          "height": 87
        }
      },
      "source": [
        "mask_marriage_good=data['MARRIAGE'].isin(range(1,4))\n",
        "data['MARRIAGE'].mask(~mask_marriage_good,data['MARRIAGE'][mask_marriage_good].sample(n=(~mask_marriage_good).sum(),replace=True).tolist(),inplace=True)\n",
        "\n",
        "data['MARRIAGE'].value_counts()"
      ],
      "execution_count": 0,
      "outputs": [
        {
          "output_type": "execute_result",
          "data": {
            "text/plain": [
              "2    15992\n",
              "1    13685\n",
              "3      323\n",
              "Name: MARRIAGE, dtype: int64"
            ]
          },
          "metadata": {
            "tags": []
          },
          "execution_count": 5
        }
      ]
    },
    {
      "cell_type": "code",
      "metadata": {
        "id": "d3xVHzLGA9cA",
        "colab_type": "code",
        "outputId": "184d18d2-fc77-421e-ff6c-7c047cc91853",
        "colab": {
          "base_uri": "https://localhost:8080/",
          "height": 555
        }
      },
      "source": [
        "# final check\n",
        "data.info()"
      ],
      "execution_count": 0,
      "outputs": [
        {
          "output_type": "stream",
          "text": [
            "<class 'pandas.core.frame.DataFrame'>\n",
            "Int64Index: 30000 entries, 1 to 30000\n",
            "Data columns (total 24 columns):\n",
            " #   Column     Non-Null Count  Dtype  \n",
            "---  ------     --------------  -----  \n",
            " 0   LIMIT_BAL  30000 non-null  float64\n",
            " 1   SEX        30000 non-null  int64  \n",
            " 2   EDUCATION  30000 non-null  int64  \n",
            " 3   MARRIAGE   30000 non-null  int64  \n",
            " 4   AGE        30000 non-null  int64  \n",
            " 5   PAY_1      30000 non-null  int64  \n",
            " 6   PAY_2      30000 non-null  int64  \n",
            " 7   PAY_3      30000 non-null  int64  \n",
            " 8   PAY_4      30000 non-null  int64  \n",
            " 9   PAY_5      30000 non-null  int64  \n",
            " 10  PAY_6      30000 non-null  int64  \n",
            " 11  BILL_AMT1  30000 non-null  float64\n",
            " 12  BILL_AMT2  30000 non-null  float64\n",
            " 13  BILL_AMT3  30000 non-null  float64\n",
            " 14  BILL_AMT4  30000 non-null  float64\n",
            " 15  BILL_AMT5  30000 non-null  float64\n",
            " 16  BILL_AMT6  30000 non-null  float64\n",
            " 17  PAY_AMT1   30000 non-null  float64\n",
            " 18  PAY_AMT2   30000 non-null  float64\n",
            " 19  PAY_AMT3   30000 non-null  float64\n",
            " 20  PAY_AMT4   30000 non-null  float64\n",
            " 21  PAY_AMT5   30000 non-null  float64\n",
            " 22  PAY_AMT6   30000 non-null  float64\n",
            " 23  def_pay    30000 non-null  int64  \n",
            "dtypes: float64(13), int64(11)\n",
            "memory usage: 5.7 MB\n"
          ],
          "name": "stdout"
        }
      ]
    },
    {
      "cell_type": "code",
      "metadata": {
        "id": "iJz9ojMeBARM",
        "colab_type": "code",
        "colab": {}
      },
      "source": [
        "# export to csv\n",
        "# data.to_csv('data/data_clean.csv')"
      ],
      "execution_count": 0,
      "outputs": []
    },
    {
      "cell_type": "code",
      "metadata": {
        "id": "jtEcTAlBBbr2",
        "colab_type": "code",
        "colab": {}
      },
      "source": [
        "# from google.colab import files\n",
        "# files.download('data/data_clean.csv')"
      ],
      "execution_count": 0,
      "outputs": []
    },
    {
      "cell_type": "markdown",
      "metadata": {
        "id": "XhJjcPPTBwme",
        "colab_type": "text"
      },
      "source": [
        "## Data preprocessing"
      ]
    },
    {
      "cell_type": "code",
      "metadata": {
        "id": "ccBYDER9B3hY",
        "colab_type": "code",
        "colab": {}
      },
      "source": [
        "# load clean data from GitHub\n",
        "data_clean_url = 'https://raw.githubusercontent.com/gerald-liu/credit-card-default-prediction/master/data/data_clean.csv?token=AIUUIXMO7222YRXRNZ5KSG26YVS22'\n",
        "data = pd.read_csv(data_clean_url, index_col = 'ID')"
      ],
      "execution_count": 0,
      "outputs": []
    },
    {
      "cell_type": "code",
      "metadata": {
        "id": "ycla4Je_N3Vk",
        "colab_type": "code",
        "colab": {}
      },
      "source": [
        "# binning of age\n",
        "# num_age_groups = 3\n",
        "# data['AGE_BINNED']=pd.cut(data['AGE'], num_age_groups, labels=range(1, num_age_groups+1))"
      ],
      "execution_count": 0,
      "outputs": []
    },
    {
      "cell_type": "code",
      "metadata": {
        "id": "xhxFVK4bIplc",
        "colab_type": "code",
        "colab": {
          "base_uri": "https://localhost:8080/",
          "height": 87
        },
        "outputId": "034302d4-93a1-42b2-e8e4-d3ceec7f5c56"
      },
      "source": [
        "# data['AGE_BINNED'].value_counts()"
      ],
      "execution_count": 7,
      "outputs": [
        {
          "output_type": "execute_result",
          "data": {
            "text/plain": [
              "1    21726\n",
              "2     7935\n",
              "3      339\n",
              "Name: AGE_BINNED, dtype: int64"
            ]
          },
          "metadata": {
            "tags": []
          },
          "execution_count": 7
        }
      ]
    },
    {
      "cell_type": "code",
      "metadata": {
        "id": "qYoUNTS9ZPA4",
        "colab_type": "code",
        "colab": {}
      },
      "source": [
        "to_transform = ['LIMIT_BAL'] + bill_amounts + payments"
      ],
      "execution_count": 0,
      "outputs": []
    },
    {
      "cell_type": "code",
      "metadata": {
        "id": "mfLVXlWuLcMp",
        "colab_type": "code",
        "colab": {}
      },
      "source": [
        "from sklearn.preprocessing import PowerTransformer"
      ],
      "execution_count": 0,
      "outputs": []
    },
    {
      "cell_type": "code",
      "metadata": {
        "id": "KwNlXhsmZnA3",
        "colab_type": "code",
        "colab": {}
      },
      "source": [
        "pt = PowerTransformer()\n",
        "data[to_transform] = pt.fit_transform(data[to_transform])"
      ],
      "execution_count": 0,
      "outputs": []
    },
    {
      "cell_type": "code",
      "metadata": {
        "id": "IeQE1CdBarP3",
        "colab_type": "code",
        "colab": {}
      },
      "source": [
        "# data.to_csv('data/data_normalized.csv')"
      ],
      "execution_count": 0,
      "outputs": []
    },
    {
      "cell_type": "code",
      "metadata": {
        "id": "L-CMrB--a-z9",
        "colab_type": "code",
        "colab": {}
      },
      "source": [
        "# from google.colab import files\n",
        "# files.download('data/data_normalized.csv')"
      ],
      "execution_count": 0,
      "outputs": []
    },
    {
      "cell_type": "markdown",
      "metadata": {
        "id": "BRqZynVObXNP",
        "colab_type": "text"
      },
      "source": [
        "## Ensemble Methods"
      ]
    },
    {
      "cell_type": "code",
      "metadata": {
        "id": "eoTIIpV9bjh6",
        "colab_type": "code",
        "colab": {}
      },
      "source": [
        "# load normalized data from GitHub\n",
        "data_normalized_url = 'https://raw.githubusercontent.com/gerald-liu/credit-card-default-prediction/master/data/data_normalized.csv?token=AIUUIXMEODJ5KTREUL32HNK6YYBRO'\n",
        "data = pd.read_csv(data_normalized_url, index_col = 'ID')"
      ],
      "execution_count": 0,
      "outputs": []
    },
    {
      "cell_type": "code",
      "metadata": {
        "id": "2ASA7OsWisKN",
        "colab_type": "code",
        "colab": {
          "base_uri": "https://localhost:8080/",
          "height": 314
        },
        "outputId": "e1fd5b8f-8a81-4002-bb0d-b328cbc50bba"
      },
      "source": [
        "data.describe().round(4)"
      ],
      "execution_count": 4,
      "outputs": [
        {
          "output_type": "execute_result",
          "data": {
            "text/html": [
              "<div>\n",
              "<style scoped>\n",
              "    .dataframe tbody tr th:only-of-type {\n",
              "        vertical-align: middle;\n",
              "    }\n",
              "\n",
              "    .dataframe tbody tr th {\n",
              "        vertical-align: top;\n",
              "    }\n",
              "\n",
              "    .dataframe thead th {\n",
              "        text-align: right;\n",
              "    }\n",
              "</style>\n",
              "<table border=\"1\" class=\"dataframe\">\n",
              "  <thead>\n",
              "    <tr style=\"text-align: right;\">\n",
              "      <th></th>\n",
              "      <th>LIMIT_BAL</th>\n",
              "      <th>SEX</th>\n",
              "      <th>EDUCATION</th>\n",
              "      <th>MARRIAGE</th>\n",
              "      <th>AGE</th>\n",
              "      <th>PAY_1</th>\n",
              "      <th>PAY_2</th>\n",
              "      <th>PAY_3</th>\n",
              "      <th>PAY_4</th>\n",
              "      <th>PAY_5</th>\n",
              "      <th>PAY_6</th>\n",
              "      <th>BILL_AMT1</th>\n",
              "      <th>BILL_AMT2</th>\n",
              "      <th>BILL_AMT3</th>\n",
              "      <th>BILL_AMT4</th>\n",
              "      <th>BILL_AMT5</th>\n",
              "      <th>BILL_AMT6</th>\n",
              "      <th>PAY_AMT1</th>\n",
              "      <th>PAY_AMT2</th>\n",
              "      <th>PAY_AMT3</th>\n",
              "      <th>PAY_AMT4</th>\n",
              "      <th>PAY_AMT5</th>\n",
              "      <th>PAY_AMT6</th>\n",
              "      <th>def_pay</th>\n",
              "    </tr>\n",
              "  </thead>\n",
              "  <tbody>\n",
              "    <tr>\n",
              "      <th>count</th>\n",
              "      <td>30000.0000</td>\n",
              "      <td>30000.0000</td>\n",
              "      <td>30000.0000</td>\n",
              "      <td>30000.0000</td>\n",
              "      <td>30000.0000</td>\n",
              "      <td>30000.0000</td>\n",
              "      <td>30000.0000</td>\n",
              "      <td>30000.0000</td>\n",
              "      <td>30000.0000</td>\n",
              "      <td>30000.0000</td>\n",
              "      <td>30000.0000</td>\n",
              "      <td>30000.0000</td>\n",
              "      <td>30000.0000</td>\n",
              "      <td>30000.0000</td>\n",
              "      <td>30000.0000</td>\n",
              "      <td>30000.0000</td>\n",
              "      <td>30000.0000</td>\n",
              "      <td>30000.0000</td>\n",
              "      <td>30000.0000</td>\n",
              "      <td>30000.0000</td>\n",
              "      <td>30000.0000</td>\n",
              "      <td>30000.0000</td>\n",
              "      <td>30000.0000</td>\n",
              "      <td>30000.0000</td>\n",
              "    </tr>\n",
              "    <tr>\n",
              "      <th>mean</th>\n",
              "      <td>0.0000</td>\n",
              "      <td>1.6037</td>\n",
              "      <td>1.8167</td>\n",
              "      <td>1.5546</td>\n",
              "      <td>35.4855</td>\n",
              "      <td>-0.0167</td>\n",
              "      <td>-0.1338</td>\n",
              "      <td>-0.1662</td>\n",
              "      <td>-0.2207</td>\n",
              "      <td>-0.2662</td>\n",
              "      <td>-0.2911</td>\n",
              "      <td>-0.0000</td>\n",
              "      <td>-0.0000</td>\n",
              "      <td>-0.0000</td>\n",
              "      <td>-0.0000</td>\n",
              "      <td>0.0000</td>\n",
              "      <td>-0.0000</td>\n",
              "      <td>-0.0000</td>\n",
              "      <td>0.0000</td>\n",
              "      <td>0.0000</td>\n",
              "      <td>-0.0000</td>\n",
              "      <td>-0.0000</td>\n",
              "      <td>-0.0000</td>\n",
              "      <td>0.2212</td>\n",
              "    </tr>\n",
              "    <tr>\n",
              "      <th>std</th>\n",
              "      <td>1.0000</td>\n",
              "      <td>0.4891</td>\n",
              "      <td>0.7115</td>\n",
              "      <td>0.5182</td>\n",
              "      <td>9.2179</td>\n",
              "      <td>1.1238</td>\n",
              "      <td>1.1972</td>\n",
              "      <td>1.1969</td>\n",
              "      <td>1.1691</td>\n",
              "      <td>1.1332</td>\n",
              "      <td>1.1500</td>\n",
              "      <td>1.0000</td>\n",
              "      <td>1.0000</td>\n",
              "      <td>1.0000</td>\n",
              "      <td>1.0000</td>\n",
              "      <td>1.0000</td>\n",
              "      <td>1.0000</td>\n",
              "      <td>1.0000</td>\n",
              "      <td>1.0000</td>\n",
              "      <td>1.0000</td>\n",
              "      <td>1.0000</td>\n",
              "      <td>1.0000</td>\n",
              "      <td>1.0000</td>\n",
              "      <td>0.4151</td>\n",
              "    </tr>\n",
              "    <tr>\n",
              "      <th>min</th>\n",
              "      <td>-2.0989</td>\n",
              "      <td>1.0000</td>\n",
              "      <td>1.0000</td>\n",
              "      <td>1.0000</td>\n",
              "      <td>21.0000</td>\n",
              "      <td>-2.0000</td>\n",
              "      <td>-2.0000</td>\n",
              "      <td>-2.0000</td>\n",
              "      <td>-2.0000</td>\n",
              "      <td>-2.0000</td>\n",
              "      <td>-2.0000</td>\n",
              "      <td>-41.4910</td>\n",
              "      <td>-34.4043</td>\n",
              "      <td>-52.4104</td>\n",
              "      <td>-49.3123</td>\n",
              "      <td>-35.6684</td>\n",
              "      <td>-48.3908</td>\n",
              "      <td>-1.7245</td>\n",
              "      <td>-1.7054</td>\n",
              "      <td>-1.6300</td>\n",
              "      <td>-1.5781</td>\n",
              "      <td>-1.5570</td>\n",
              "      <td>-1.5158</td>\n",
              "      <td>0.0000</td>\n",
              "    </tr>\n",
              "    <tr>\n",
              "      <th>25%</th>\n",
              "      <td>-0.9539</td>\n",
              "      <td>1.0000</td>\n",
              "      <td>1.0000</td>\n",
              "      <td>1.0000</td>\n",
              "      <td>28.0000</td>\n",
              "      <td>-1.0000</td>\n",
              "      <td>-1.0000</td>\n",
              "      <td>-1.0000</td>\n",
              "      <td>-1.0000</td>\n",
              "      <td>-1.0000</td>\n",
              "      <td>-1.0000</td>\n",
              "      <td>-0.6617</td>\n",
              "      <td>-0.6697</td>\n",
              "      <td>-0.6556</td>\n",
              "      <td>-0.6458</td>\n",
              "      <td>-0.6483</td>\n",
              "      <td>-0.6240</td>\n",
              "      <td>-0.2443</td>\n",
              "      <td>-0.2753</td>\n",
              "      <td>-0.4242</td>\n",
              "      <td>-0.4215</td>\n",
              "      <td>-0.4574</td>\n",
              "      <td>-0.6170</td>\n",
              "      <td>0.0000</td>\n",
              "    </tr>\n",
              "    <tr>\n",
              "      <th>50%</th>\n",
              "      <td>0.0837</td>\n",
              "      <td>2.0000</td>\n",
              "      <td>2.0000</td>\n",
              "      <td>2.0000</td>\n",
              "      <td>34.0000</td>\n",
              "      <td>0.0000</td>\n",
              "      <td>0.0000</td>\n",
              "      <td>0.0000</td>\n",
              "      <td>0.0000</td>\n",
              "      <td>0.0000</td>\n",
              "      <td>0.0000</td>\n",
              "      <td>-0.3436</td>\n",
              "      <td>-0.3281</td>\n",
              "      <td>-0.3338</td>\n",
              "      <td>-0.3209</td>\n",
              "      <td>-0.2971</td>\n",
              "      <td>-0.3162</td>\n",
              "      <td>0.0870</td>\n",
              "      <td>0.1006</td>\n",
              "      <td>0.1675</td>\n",
              "      <td>0.1739</td>\n",
              "      <td>0.1820</td>\n",
              "      <td>0.2151</td>\n",
              "      <td>0.0000</td>\n",
              "    </tr>\n",
              "    <tr>\n",
              "      <th>75%</th>\n",
              "      <td>0.7521</td>\n",
              "      <td>2.0000</td>\n",
              "      <td>2.0000</td>\n",
              "      <td>2.0000</td>\n",
              "      <td>41.0000</td>\n",
              "      <td>0.0000</td>\n",
              "      <td>0.0000</td>\n",
              "      <td>0.0000</td>\n",
              "      <td>0.0000</td>\n",
              "      <td>0.0000</td>\n",
              "      <td>0.0000</td>\n",
              "      <td>0.2927</td>\n",
              "      <td>0.3133</td>\n",
              "      <td>0.2770</td>\n",
              "      <td>0.2558</td>\n",
              "      <td>0.2615</td>\n",
              "      <td>0.2293</td>\n",
              "      <td>0.5489</td>\n",
              "      <td>0.5680</td>\n",
              "      <td>0.6127</td>\n",
              "      <td>0.6253</td>\n",
              "      <td>0.6311</td>\n",
              "      <td>0.6363</td>\n",
              "      <td>0.0000</td>\n",
              "    </tr>\n",
              "    <tr>\n",
              "      <th>max</th>\n",
              "      <td>3.0658</td>\n",
              "      <td>2.0000</td>\n",
              "      <td>4.0000</td>\n",
              "      <td>3.0000</td>\n",
              "      <td>79.0000</td>\n",
              "      <td>8.0000</td>\n",
              "      <td>8.0000</td>\n",
              "      <td>8.0000</td>\n",
              "      <td>8.0000</td>\n",
              "      <td>8.0000</td>\n",
              "      <td>8.0000</td>\n",
              "      <td>9.7490</td>\n",
              "      <td>9.6391</td>\n",
              "      <td>16.5508</td>\n",
              "      <td>10.1698</td>\n",
              "      <td>10.6786</td>\n",
              "      <td>12.3746</td>\n",
              "      <td>6.0774</td>\n",
              "      <td>6.8291</td>\n",
              "      <td>5.3782</td>\n",
              "      <td>4.6289</td>\n",
              "      <td>4.1556</td>\n",
              "      <td>4.0342</td>\n",
              "      <td>1.0000</td>\n",
              "    </tr>\n",
              "  </tbody>\n",
              "</table>\n",
              "</div>"
            ],
            "text/plain": [
              "        LIMIT_BAL         SEX   EDUCATION  ...    PAY_AMT5    PAY_AMT6     def_pay\n",
              "count  30000.0000  30000.0000  30000.0000  ...  30000.0000  30000.0000  30000.0000\n",
              "mean       0.0000      1.6037      1.8167  ...     -0.0000     -0.0000      0.2212\n",
              "std        1.0000      0.4891      0.7115  ...      1.0000      1.0000      0.4151\n",
              "min       -2.0989      1.0000      1.0000  ...     -1.5570     -1.5158      0.0000\n",
              "25%       -0.9539      1.0000      1.0000  ...     -0.4574     -0.6170      0.0000\n",
              "50%        0.0837      2.0000      2.0000  ...      0.1820      0.2151      0.0000\n",
              "75%        0.7521      2.0000      2.0000  ...      0.6311      0.6363      0.0000\n",
              "max        3.0658      2.0000      4.0000  ...      4.1556      4.0342      1.0000\n",
              "\n",
              "[8 rows x 24 columns]"
            ]
          },
          "metadata": {
            "tags": []
          },
          "execution_count": 4
        }
      ]
    },
    {
      "cell_type": "code",
      "metadata": {
        "id": "UX4lUESHjM1E",
        "colab_type": "code",
        "colab": {}
      },
      "source": [
        "X = data.drop('def_pay', axis=1)\n",
        "y = data['def_pay']"
      ],
      "execution_count": 0,
      "outputs": []
    },
    {
      "cell_type": "code",
      "metadata": {
        "id": "gi20mSvShRgC",
        "colab_type": "code",
        "colab": {}
      },
      "source": [
        "from sklearn.ensemble import RandomForestClassifier, GradientBoostingClassifier, AdaBoostClassifier\n",
        "from catboost import CatBoostClassifier\n",
        "from xgboost import XGBClassifier\n",
        "from lightgbm import LGBMClassifier\n",
        "\n",
        "from sklearn.model_selection import train_test_split"
      ],
      "execution_count": 0,
      "outputs": []
    },
    {
      "cell_type": "markdown",
      "metadata": {
        "id": "oaBjjdAbvkBJ",
        "colab_type": "text"
      },
      "source": [
        "### Random Forest"
      ]
    },
    {
      "cell_type": "code",
      "metadata": {
        "id": "PIM-knGah7Ee",
        "colab_type": "code",
        "colab": {
          "base_uri": "https://localhost:8080/",
          "height": 156
        },
        "outputId": "1dd8b7ea-c4a7-4d7c-cdb7-62120c4c8950"
      },
      "source": [
        "rf = RandomForestClassifier()\n",
        "rf.fit(X, y)"
      ],
      "execution_count": 18,
      "outputs": [
        {
          "output_type": "execute_result",
          "data": {
            "text/plain": [
              "RandomForestClassifier(bootstrap=True, ccp_alpha=0.0, class_weight=None,\n",
              "                       criterion='gini', max_depth=None, max_features='auto',\n",
              "                       max_leaf_nodes=None, max_samples=None,\n",
              "                       min_impurity_decrease=0.0, min_impurity_split=None,\n",
              "                       min_samples_leaf=1, min_samples_split=2,\n",
              "                       min_weight_fraction_leaf=0.0, n_estimators=100,\n",
              "                       n_jobs=None, oob_score=False, random_state=None,\n",
              "                       verbose=0, warm_start=False)"
            ]
          },
          "metadata": {
            "tags": []
          },
          "execution_count": 18
        }
      ]
    },
    {
      "cell_type": "code",
      "metadata": {
        "id": "Sib8xpvQv-v3",
        "colab_type": "code",
        "colab": {}
      },
      "source": [
        "# joblib.dump(rf, 'models/rf.joblib')\n",
        "# files.download('models/rf.joblib')"
      ],
      "execution_count": 0,
      "outputs": []
    },
    {
      "cell_type": "code",
      "metadata": {
        "id": "IodBBQkNmTFU",
        "colab_type": "code",
        "colab": {
          "base_uri": "https://localhost:8080/",
          "height": 72
        },
        "outputId": "6ae9a056-d363-40c8-9f6c-e292444646b9"
      },
      "source": [
        "import seaborn as sns\n",
        "import matplotlib.pyplot as plt"
      ],
      "execution_count": 34,
      "outputs": [
        {
          "output_type": "stream",
          "text": [
            "/usr/local/lib/python3.6/dist-packages/statsmodels/tools/_testing.py:19: FutureWarning: pandas.util.testing is deprecated. Use the functions in the public API at pandas.testing instead.\n",
            "  import pandas.util.testing as tm\n"
          ],
          "name": "stderr"
        }
      ]
    },
    {
      "cell_type": "code",
      "metadata": {
        "id": "_d6Bw6xmlOlX",
        "colab_type": "code",
        "colab": {}
      },
      "source": [
        "def plot_feature_importances(model, feature_names):\n",
        "    feature_importances = pd.DataFrame({'Feature': feature_names, 'Importance': model.feature_importances_})\n",
        "    feature_importances = feature_importances.sort_values(by='Importance', ascending=False)\n",
        "\n",
        "    plt.title('Feature Importances')\n",
        "    s = sns.barplot(x='Feature', y='Importance', data=feature_importances)\n",
        "    s.set_xticklabels(s.get_xticklabels(), rotation=90)\n",
        "    plt.show()"
      ],
      "execution_count": 0,
      "outputs": []
    },
    {
      "cell_type": "code",
      "metadata": {
        "id": "9bZNYk-AmY67",
        "colab_type": "code",
        "colab": {
          "base_uri": "https://localhost:8080/",
          "height": 344
        },
        "outputId": "1e54dd51-3910-4f87-afaf-ba15df893433"
      },
      "source": [
        "plot_feature_importances(rf, X.columns)"
      ],
      "execution_count": 44,
      "outputs": [
        {
          "output_type": "display_data",
          "data": {
            "image/png": "[encoded data removed]",
            "text/plain": [
              "<Figure size 432x288 with 1 Axes>"
            ]
          },
          "metadata": {
            "tags": [],
            "needs_background": "light"
          }
        }
      ]
    },
    {
      "cell_type": "code",
      "metadata": {
        "id": "MoNR24Iun7zV",
        "colab_type": "code",
        "colab": {}
      },
      "source": [
        "from sklearn.model_selection import cross_val_predict, cross_val_score\n",
        "from sklearn.metrics import confusion_matrix, classification_report, roc_curve, auc"
      ],
      "execution_count": 0,
      "outputs": []
    },
    {
      "cell_type": "code",
      "metadata": {
        "id": "bJjSuY79pBI2",
        "colab_type": "code",
        "colab": {}
      },
      "source": [
        "y_pred = cross_val_predict(rf, X, y, cv=10)"
      ],
      "execution_count": 0,
      "outputs": []
    },
    {
      "cell_type": "code",
      "metadata": {
        "id": "Mf0-J8JDqbRe",
        "colab_type": "code",
        "colab": {
          "base_uri": "https://localhost:8080/",
          "height": 35
        },
        "outputId": "5b411f38-68e5-4801-a421-a5f16398c6c3"
      },
      "source": [
        "cross_val_score(rf, X, y, cv=10).mean()"
      ],
      "execution_count": 31,
      "outputs": [
        {
          "output_type": "execute_result",
          "data": {
            "text/plain": [
              "0.8164000000000001"
            ]
          },
          "metadata": {
            "tags": []
          },
          "execution_count": 31
        }
      ]
    },
    {
      "cell_type": "code",
      "metadata": {
        "id": "rRQnCogJse8q",
        "colab_type": "code",
        "colab": {}
      },
      "source": [
        "def eval_confusion_matrix(y, y_pred):\n",
        "    cmat = confusion_matrix(y, y_pred)\n",
        "    print(\"Confusion Matrix:\", \"\\n\", confusion_matrix(y, y_pred))\n",
        "    print('TP - True Negative {}'.format(cmat[0,0]))\n",
        "    print('FP - False Positive {}'.format(cmat[0,1]))\n",
        "    print('FN - False Negative {}'.format(cmat[1,0]))\n",
        "    print('TN - True Negative {}'.format(cmat[1,1]))\n",
        "    print(\"\\nClassification Report:\",\"\\n\", classification_report(y, y_pred, zero_division=0))\n",
        "    print('Accuracy Rate: {}'.format(np.divide(np.sum([cmat[0,0],cmat[1,1]]),np.sum(cmat))))\n",
        "    print('Misclassification Rate: {}'.format(np.divide(np.sum([cmat[0,1],cmat[1,0]]),np.sum(cmat))))"
      ],
      "execution_count": 0,
      "outputs": []
    },
    {
      "cell_type": "code",
      "metadata": {
        "id": "Ung_XX0wtLWz",
        "colab_type": "code",
        "colab": {
          "base_uri": "https://localhost:8080/",
          "height": 364
        },
        "outputId": "7de62b5f-b9a6-4e45-aec0-07da3b8f6d00"
      },
      "source": [
        "eval_confusion_matrix(y, y_pred)"
      ],
      "execution_count": 33,
      "outputs": [
        {
          "output_type": "stream",
          "text": [
            "Confusion Matrix: \n",
            " [[22020  1344]\n",
            " [ 4181  2455]]\n",
            "TP - True Negative 22020\n",
            "FP - False Positive 1344\n",
            "FN - False Negative 4181\n",
            "TN - True Negative 2455\n",
            "\n",
            "Classification Report: \n",
            "               precision    recall  f1-score   support\n",
            "\n",
            "           0       0.84      0.94      0.89     23364\n",
            "           1       0.65      0.37      0.47      6636\n",
            "\n",
            "    accuracy                           0.82     30000\n",
            "   macro avg       0.74      0.66      0.68     30000\n",
            "weighted avg       0.80      0.82      0.80     30000\n",
            "\n",
            "Accuracy Rate: 0.8158333333333333\n",
            "Misclassification Rate: 0.18416666666666667\n"
          ],
          "name": "stdout"
        }
      ]
    },
    {
      "cell_type": "code",
      "metadata": {
        "id": "2Sr6Al7quHbJ",
        "colab_type": "code",
        "colab": {}
      },
      "source": [
        "y_pred_proba = cross_val_predict(rf, X, y, cv=10, method= 'predict_proba')"
      ],
      "execution_count": 0,
      "outputs": []
    },
    {
      "cell_type": "code",
      "metadata": {
        "id": "L5THmnFzuh2a",
        "colab_type": "code",
        "colab": {
          "base_uri": "https://localhost:8080/",
          "height": 35
        },
        "outputId": "0cf0ccfd-2915-4b9b-a054-63db7b4bdf27"
      },
      "source": [
        "fpr, tpr, thresholds = roc_curve(y, y_pred_proba[:, 1], pos_label=1)\n",
        "roc_auc = auc(fpr, tpr)\n",
        "\n",
        "roc_auc"
      ],
      "execution_count": 35,
      "outputs": [
        {
          "output_type": "execute_result",
          "data": {
            "text/plain": [
              "0.764498037273461"
            ]
          },
          "metadata": {
            "tags": []
          },
          "execution_count": 35
        }
      ]
    },
    {
      "cell_type": "markdown",
      "metadata": {
        "colab_type": "text",
        "id": "s1Rd3qruytuU"
      },
      "source": [
        "### AdaBoost"
      ]
    },
    {
      "cell_type": "code",
      "metadata": {
        "colab_type": "code",
        "outputId": "6e3bb866-d290-4a1e-ce68-278143293df8",
        "id": "075zSxNVytua",
        "colab": {
          "base_uri": "https://localhost:8080/",
          "height": 52
        }
      },
      "source": [
        "ab = AdaBoostClassifier()\n",
        "ab.fit(X, y)"
      ],
      "execution_count": 49,
      "outputs": [
        {
          "output_type": "execute_result",
          "data": {
            "text/plain": [
              "AdaBoostClassifier(algorithm='SAMME.R', base_estimator=None, learning_rate=1.0,\n",
              "                   n_estimators=50, random_state=None)"
            ]
          },
          "metadata": {
            "tags": []
          },
          "execution_count": 49
        }
      ]
    },
    {
      "cell_type": "code",
      "metadata": {
        "colab_type": "code",
        "id": "xPqpBpePytut",
        "colab": {}
      },
      "source": [
        "joblib.dump(ab, 'models/ab.joblib')\n",
        "files.download('models/ab.joblib')"
      ],
      "execution_count": 0,
      "outputs": []
    },
    {
      "cell_type": "code",
      "metadata": {
        "colab_type": "code",
        "outputId": "81046338-aebd-4dcc-8b04-6e89abe2670f",
        "id": "D9cVhjToytu-",
        "colab": {
          "base_uri": "https://localhost:8080/",
          "height": 344
        }
      },
      "source": [
        "plot_feature_importances(ab, X.columns)"
      ],
      "execution_count": 51,
      "outputs": [
        {
          "output_type": "display_data",
          "data": {
            "image/png": "[encoded data removed]",
            "text/plain": [
              "<Figure size 432x288 with 1 Axes>"
            ]
          },
          "metadata": {
            "tags": [],
            "needs_background": "light"
          }
        }
      ]
    },
    {
      "cell_type": "code",
      "metadata": {
        "colab_type": "code",
        "outputId": "45bdcd64-17e2-4a6e-fc75-44504f0792b7",
        "id": "yFqgYl7uytvR",
        "colab": {
          "base_uri": "https://localhost:8080/",
          "height": 35
        }
      },
      "source": [
        "y_pred = cross_val_predict(ab, X, y, cv=10)\n",
        "cross_val_score(ab, X, y, cv=10).mean()"
      ],
      "execution_count": 52,
      "outputs": [
        {
          "output_type": "execute_result",
          "data": {
            "text/plain": [
              "0.8163"
            ]
          },
          "metadata": {
            "tags": []
          },
          "execution_count": 52
        }
      ]
    },
    {
      "cell_type": "code",
      "metadata": {
        "colab_type": "code",
        "outputId": "16c632b9-4e73-413e-eed0-d88a04ddafe3",
        "id": "IrUyXTzqytve",
        "colab": {
          "base_uri": "https://localhost:8080/",
          "height": 364
        }
      },
      "source": [
        "eval_confusion_matrix(y, y_pred)"
      ],
      "execution_count": 53,
      "outputs": [
        {
          "output_type": "stream",
          "text": [
            "Confusion Matrix: \n",
            " [[22361  1003]\n",
            " [ 4508  2128]]\n",
            "TP - True Negative 22361\n",
            "FP - False Positive 1003\n",
            "FN - False Negative 4508\n",
            "TN - True Negative 2128\n",
            "\n",
            "Classification Report: \n",
            "               precision    recall  f1-score   support\n",
            "\n",
            "           0       0.83      0.96      0.89     23364\n",
            "           1       0.68      0.32      0.44      6636\n",
            "\n",
            "    accuracy                           0.82     30000\n",
            "   macro avg       0.76      0.64      0.66     30000\n",
            "weighted avg       0.80      0.82      0.79     30000\n",
            "\n",
            "Accuracy Rate: 0.8163\n",
            "Misclassification Rate: 0.1837\n"
          ],
          "name": "stdout"
        }
      ]
    },
    {
      "cell_type": "code",
      "metadata": {
        "colab_type": "code",
        "outputId": "af66a5d2-7bfc-49db-c569-d3a2b6ce3343",
        "id": "29lgF8OFytvr",
        "colab": {
          "base_uri": "https://localhost:8080/",
          "height": 35
        }
      },
      "source": [
        "y_pred_proba = cross_val_predict(ab, X, y, cv=10, method= 'predict_proba')\n",
        "fpr, tpr, thresholds = roc_curve(y, y_pred_proba[:, 1], pos_label=1)\n",
        "roc_auc = auc(fpr, tpr)\n",
        "\n",
        "roc_auc"
      ],
      "execution_count": 54,
      "outputs": [
        {
          "output_type": "execute_result",
          "data": {
            "text/plain": [
              "0.7714415400467214"
            ]
          },
          "metadata": {
            "tags": []
          },
          "execution_count": 54
        }
      ]
    },
    {
      "cell_type": "markdown",
      "metadata": {
        "id": "YG9QobVtvnfs",
        "colab_type": "text"
      },
      "source": [
        "### Gradient Boosting"
      ]
    },
    {
      "cell_type": "markdown",
      "metadata": {
        "id": "SWr3LT-t0i3L",
        "colab_type": "text"
      },
      "source": [
        "#### scikit-learn"
      ]
    },
    {
      "cell_type": "code",
      "metadata": {
        "id": "Kjmink6ouahe",
        "colab_type": "code",
        "outputId": "81666e57-188f-43af-c004-050c65f7aa45",
        "colab": {
          "base_uri": "https://localhost:8080/",
          "height": 191
        }
      },
      "source": [
        "gb = GradientBoostingClassifier(random_state=42)\n",
        "gb.fit(X, y)"
      ],
      "execution_count": 0,
      "outputs": [
        {
          "output_type": "execute_result",
          "data": {
            "text/plain": [
              "GradientBoostingClassifier(ccp_alpha=0.0, criterion='friedman_mse', init=None,\n",
              "                           learning_rate=0.1, loss='deviance', max_depth=3,\n",
              "                           max_features=None, max_leaf_nodes=None,\n",
              "                           min_impurity_decrease=0.0, min_impurity_split=None,\n",
              "                           min_samples_leaf=1, min_samples_split=2,\n",
              "                           min_weight_fraction_leaf=0.0, n_estimators=100,\n",
              "                           n_iter_no_change=None, presort='deprecated',\n",
              "                           random_state=None, subsample=1.0, tol=0.0001,\n",
              "                           validation_fraction=0.1, verbose=0,\n",
              "                           warm_start=False)"
            ]
          },
          "metadata": {
            "tags": []
          },
          "execution_count": 36
        }
      ]
    },
    {
      "cell_type": "code",
      "metadata": {
        "id": "VL6dVpyNwURi",
        "colab_type": "code",
        "colab": {}
      },
      "source": [
        "# joblib.dump(gb, 'models/gb.joblib')\n",
        "# files.download('models/gb.joblib')"
      ],
      "execution_count": 0,
      "outputs": []
    },
    {
      "cell_type": "code",
      "metadata": {
        "id": "p3NO5A3CwasZ",
        "colab_type": "code",
        "outputId": "8ff73eed-6935-4ef3-d68b-5594a7695ba0",
        "colab": {
          "base_uri": "https://localhost:8080/",
          "height": 344
        }
      },
      "source": [
        "plot_feature_importances(gb, X.columns)"
      ],
      "execution_count": 0,
      "outputs": [
        {
          "output_type": "display_data",
          "data": {
            "image/png": "[encoded data removed]",
            "text/plain": [
              "<Figure size 432x288 with 1 Axes>"
            ]
          },
          "metadata": {
            "tags": [],
            "needs_background": "light"
          }
        }
      ]
    },
    {
      "cell_type": "code",
      "metadata": {
        "id": "RNQWO-6uwmuM",
        "colab_type": "code",
        "colab": {}
      },
      "source": [
        "y_pred = cross_val_predict(xgb_1, X, y, cv=10)\n",
        "cross_val_score(gb, X, y, cv=10).mean()"
      ],
      "execution_count": 0,
      "outputs": []
    },
    {
      "cell_type": "code",
      "metadata": {
        "id": "z0FX9SRzwucK",
        "colab_type": "code",
        "outputId": "5a875b8e-d6cc-48ef-d2d2-ad9841f265eb",
        "colab": {
          "base_uri": "https://localhost:8080/",
          "height": 364
        }
      },
      "source": [
        "eval_confusion_matrix(y, y_pred)"
      ],
      "execution_count": 0,
      "outputs": [
        {
          "output_type": "stream",
          "text": [
            "Confusion Matrix: \n",
            " [[22191  1173]\n",
            " [ 4203  2433]]\n",
            "TP - True Negative 22191\n",
            "FP - False Positive 1173\n",
            "FN - False Negative 4203\n",
            "TN - True Negative 2433\n",
            "\n",
            "Classification Report: \n",
            "               precision    recall  f1-score   support\n",
            "\n",
            "           0       0.84      0.95      0.89     23364\n",
            "           1       0.67      0.37      0.48      6636\n",
            "\n",
            "    accuracy                           0.82     30000\n",
            "   macro avg       0.76      0.66      0.68     30000\n",
            "weighted avg       0.80      0.82      0.80     30000\n",
            "\n",
            "Accuracy Rate: 0.8208\n",
            "Misclassification Rate: 0.1792\n"
          ],
          "name": "stdout"
        }
      ]
    },
    {
      "cell_type": "code",
      "metadata": {
        "id": "SLhu_7KNxtJr",
        "colab_type": "code",
        "outputId": "d500ced5-7f5e-4afb-fcc7-4248a2b98a06",
        "colab": {
          "base_uri": "https://localhost:8080/",
          "height": 35
        }
      },
      "source": [
        "y_pred_proba = cross_val_predict(gb, X, y, cv=10, method= 'predict_proba')\n",
        "fpr, tpr, thresholds = roc_curve(y, y_pred_proba[:, 1], pos_label=1)\n",
        "roc_auc = auc(fpr, tpr)\n",
        "\n",
        "roc_auc"
      ],
      "execution_count": 0,
      "outputs": [
        {
          "output_type": "execute_result",
          "data": {
            "text/plain": [
              "0.7800866329749616"
            ]
          },
          "metadata": {
            "tags": []
          },
          "execution_count": 48
        }
      ]
    },
    {
      "cell_type": "markdown",
      "metadata": {
        "id": "xv4bqriDtLWS",
        "colab_type": "text"
      },
      "source": [
        "#### CatBoost"
      ]
    },
    {
      "cell_type": "code",
      "metadata": {
        "id": "fVfIcRrhtK0d",
        "colab_type": "code",
        "colab": {}
      },
      "source": [
        "catb_params = {\n",
        "    'loss_function': 'Logloss',\n",
        "    'eval_metric': 'AUC',\n",
        "    'logging_level': 'Silent',\n",
        "    'random_seed': 42\n",
        "}"
      ],
      "execution_count": 0,
      "outputs": []
    },
    {
      "cell_type": "code",
      "metadata": {
        "id": "ceIYdvI9uN9J",
        "colab_type": "code",
        "colab": {
          "base_uri": "https://localhost:8080/",
          "height": 35
        },
        "outputId": "0ca961c2-c22a-4801-e273-14700ae86c1c"
      },
      "source": [
        "catb_1 = CatBoostClassifier(**catb_params)\n",
        "catb_1.fit(X, y)"
      ],
      "execution_count": 87,
      "outputs": [
        {
          "output_type": "execute_result",
          "data": {
            "text/plain": [
              "<catboost.core.CatBoostClassifier at 0x7f8360c001d0>"
            ]
          },
          "metadata": {
            "tags": []
          },
          "execution_count": 87
        }
      ]
    },
    {
      "cell_type": "code",
      "metadata": {
        "id": "1NTUQKfIuYzN",
        "colab_type": "code",
        "colab": {}
      },
      "source": [
        "joblib.dump(catb_1, 'models/catb.joblib')\n",
        "files.download('models/catb.joblib')"
      ],
      "execution_count": 0,
      "outputs": []
    },
    {
      "cell_type": "code",
      "metadata": {
        "id": "wwMqy04WuiKC",
        "colab_type": "code",
        "colab": {
          "base_uri": "https://localhost:8080/",
          "height": 344
        },
        "outputId": "df730a90-a523-4d0d-e4a7-fb9dbdc28d20"
      },
      "source": [
        "plot_feature_importances(catb_1, X.columns)"
      ],
      "execution_count": 89,
      "outputs": [
        {
          "output_type": "display_data",
          "data": {
            "image/png": "[encoded data removed]",
            "text/plain": [
              "<Figure size 432x288 with 1 Axes>"
            ]
          },
          "metadata": {
            "tags": [],
            "needs_background": "light"
          }
        }
      ]
    },
    {
      "cell_type": "code",
      "metadata": {
        "id": "1tlUy-GwunOV",
        "colab_type": "code",
        "colab": {}
      },
      "source": [
        "y_pred = cross_val_predict(catb_1, X, y, cv=10)"
      ],
      "execution_count": 0,
      "outputs": []
    },
    {
      "cell_type": "code",
      "metadata": {
        "id": "WJq29Xn8ur9O",
        "colab_type": "code",
        "colab": {
          "base_uri": "https://localhost:8080/",
          "height": 364
        },
        "outputId": "eb5a35c5-e17d-40d8-f0e0-8ef45e674c09"
      },
      "source": [
        "eval_confusion_matrix(y, y_pred)"
      ],
      "execution_count": 91,
      "outputs": [
        {
          "output_type": "stream",
          "text": [
            "Confusion Matrix: \n",
            " [[22129  1235]\n",
            " [ 4185  2451]]\n",
            "TP - True Negative 22129\n",
            "FP - False Positive 1235\n",
            "FN - False Negative 4185\n",
            "TN - True Negative 2451\n",
            "\n",
            "Classification Report: \n",
            "               precision    recall  f1-score   support\n",
            "\n",
            "           0       0.84      0.95      0.89     23364\n",
            "           1       0.66      0.37      0.47      6636\n",
            "\n",
            "    accuracy                           0.82     30000\n",
            "   macro avg       0.75      0.66      0.68     30000\n",
            "weighted avg       0.80      0.82      0.80     30000\n",
            "\n",
            "Accuracy Rate: 0.8193333333333334\n",
            "Misclassification Rate: 0.18066666666666667\n"
          ],
          "name": "stdout"
        }
      ]
    },
    {
      "cell_type": "code",
      "metadata": {
        "id": "D3131xnNuxGS",
        "colab_type": "code",
        "colab": {
          "base_uri": "https://localhost:8080/",
          "height": 35
        },
        "outputId": "114b13e1-22fc-4ea0-807f-c1ba2be0ea8b"
      },
      "source": [
        "y_pred_proba = cross_val_predict(catb_1, X, y, cv=10, method= 'predict_proba')\n",
        "fpr, tpr, thresholds = roc_curve(y, y_pred_proba[:, 1], pos_label=1)\n",
        "roc_auc = auc(fpr, tpr)\n",
        "\n",
        "roc_auc"
      ],
      "execution_count": 92,
      "outputs": [
        {
          "output_type": "execute_result",
          "data": {
            "text/plain": [
              "0.7806429865000987"
            ]
          },
          "metadata": {
            "tags": []
          },
          "execution_count": 92
        }
      ]
    },
    {
      "cell_type": "markdown",
      "metadata": {
        "colab_type": "text",
        "id": "InG23wRt8F-_"
      },
      "source": [
        "#### XGBoost"
      ]
    },
    {
      "cell_type": "code",
      "metadata": {
        "id": "E9yMl4IRrUxt",
        "colab_type": "code",
        "colab": {}
      },
      "source": [
        "xgb_params = {\n",
        "    'objective': 'binary:logistic',\n",
        "    'eval_metric': 'auc',\n",
        "    'silent': True,\n",
        "    'seed': 42\n",
        "}"
      ],
      "execution_count": 0,
      "outputs": []
    },
    {
      "cell_type": "code",
      "metadata": {
        "id": "ePNgsY55oyiE",
        "colab_type": "code",
        "colab": {
          "base_uri": "https://localhost:8080/",
          "height": 139
        },
        "outputId": "ba7ba63c-d5aa-458c-d9e4-24723b734be8"
      },
      "source": [
        "xgb_1 = XGBClassifier(**xgb_params)\n",
        "xgb_1.fit(X, y)"
      ],
      "execution_count": 40,
      "outputs": [
        {
          "output_type": "execute_result",
          "data": {
            "text/plain": [
              "XGBClassifier(base_score=0.5, booster='gbtree', colsample_bylevel=1,\n",
              "              colsample_bynode=1, colsample_bytree=1, eval_metric='auc',\n",
              "              gamma=0, learning_rate=0.1, max_delta_step=0, max_depth=3,\n",
              "              min_child_weight=1, missing=None, n_estimators=100, n_jobs=1,\n",
              "              nthread=None, objective='binary:logistic', random_state=0,\n",
              "              reg_alpha=0, reg_lambda=1, scale_pos_weight=1, seed=42,\n",
              "              silent=True, subsample=1, verbosity=1)"
            ]
          },
          "metadata": {
            "tags": []
          },
          "execution_count": 40
        }
      ]
    },
    {
      "cell_type": "code",
      "metadata": {
        "id": "FGrh3xi6pF00",
        "colab_type": "code",
        "colab": {}
      },
      "source": [
        "joblib.dump(xgb_1, 'models/xgb.joblib')\n",
        "files.download('models/xgb.joblib')"
      ],
      "execution_count": 0,
      "outputs": []
    },
    {
      "cell_type": "code",
      "metadata": {
        "id": "Zk4ruFAPprni",
        "colab_type": "code",
        "colab": {
          "base_uri": "https://localhost:8080/",
          "height": 344
        },
        "outputId": "f22ff491-eef2-4a9b-a77e-0008d317d1ca"
      },
      "source": [
        "plot_feature_importances(xgb_1, X.columns)"
      ],
      "execution_count": 41,
      "outputs": [
        {
          "output_type": "display_data",
          "data": {
            "image/png": "[encoded data removed]",
            "text/plain": [
              "<Figure size 432x288 with 1 Axes>"
            ]
          },
          "metadata": {
            "tags": [],
            "needs_background": "light"
          }
        }
      ]
    },
    {
      "cell_type": "code",
      "metadata": {
        "id": "PfYBYNrSp4tU",
        "colab_type": "code",
        "colab": {}
      },
      "source": [
        "y_pred = cross_val_predict(xgb_1, X, y, cv=10)\n",
        "# cross_val_score(xgb_1, X, y, cv=10, scoring='accuracy').mean()"
      ],
      "execution_count": 0,
      "outputs": []
    },
    {
      "cell_type": "code",
      "metadata": {
        "id": "QqtZBRe_qoVb",
        "colab_type": "code",
        "colab": {
          "base_uri": "https://localhost:8080/",
          "height": 364
        },
        "outputId": "04de78c6-bf87-45c8-bb32-dfbc891b612b"
      },
      "source": [
        "eval_confusion_matrix(y, y_pred)"
      ],
      "execution_count": 43,
      "outputs": [
        {
          "output_type": "stream",
          "text": [
            "Confusion Matrix: \n",
            " [[22220  1144]\n",
            " [ 4215  2421]]\n",
            "TP - True Negative 22220\n",
            "FP - False Positive 1144\n",
            "FN - False Negative 4215\n",
            "TN - True Negative 2421\n",
            "\n",
            "Classification Report: \n",
            "               precision    recall  f1-score   support\n",
            "\n",
            "           0       0.84      0.95      0.89     23364\n",
            "           1       0.68      0.36      0.47      6636\n",
            "\n",
            "    accuracy                           0.82     30000\n",
            "   macro avg       0.76      0.66      0.68     30000\n",
            "weighted avg       0.80      0.82      0.80     30000\n",
            "\n",
            "Accuracy Rate: 0.8213666666666667\n",
            "Misclassification Rate: 0.17863333333333334\n"
          ],
          "name": "stdout"
        }
      ]
    },
    {
      "cell_type": "code",
      "metadata": {
        "id": "p0SG4TxCqzrj",
        "colab_type": "code",
        "colab": {
          "base_uri": "https://localhost:8080/",
          "height": 35
        },
        "outputId": "3a791c1f-f249-4673-ef15-9e7fcf7b8468"
      },
      "source": [
        "y_pred_proba = cross_val_predict(xgb_1, X, y, cv=10, method= 'predict_proba')\n",
        "fpr, tpr, thresholds = roc_curve(y, y_pred_proba[:, 1], pos_label=1)\n",
        "roc_auc = auc(fpr, tpr)\n",
        "\n",
        "roc_auc"
      ],
      "execution_count": 44,
      "outputs": [
        {
          "output_type": "execute_result",
          "data": {
            "text/plain": [
              "0.7804951279996871"
            ]
          },
          "metadata": {
            "tags": []
          },
          "execution_count": 44
        }
      ]
    },
    {
      "cell_type": "code",
      "metadata": {
        "id": "od2VPditfyd1",
        "colab_type": "code",
        "colab": {
          "base_uri": "https://localhost:8080/",
          "height": 295
        },
        "outputId": "ff169aaa-96a4-4949-fd7d-365eb57a3b17"
      },
      "source": [
        "plt.figure()\n",
        "lw = 2\n",
        "plt.plot(fpr, tpr, marker='o',color='darkorange',\n",
        "         lw=lw, label='ROC curve (area = %0.2f)' % roc_auc)\n",
        "plt.plot([0, 1], [0, 1], color='navy', lw=lw, linestyle='--')\n",
        "plt.xlim([-0.05, 1.0])\n",
        "plt.ylim([0.0, 1.05])\n",
        "plt.xlabel('False Positive Rate')\n",
        "plt.ylabel('True Positive Rate')\n",
        "plt.title('Receiver operating characteristic')\n",
        "plt.legend(loc=\"lower right\")\n",
        "plt.show()"
      ],
      "execution_count": 45,
      "outputs": [
        {
          "output_type": "display_data",
          "data": {
            "image/png": "[encoded data removed]",
            "text/plain": [
              "<Figure size 432x288 with 1 Axes>"
            ]
          },
          "metadata": {
            "tags": [],
            "needs_background": "light"
          }
        }
      ]
    },
    {
      "cell_type": "markdown",
      "metadata": {
        "id": "h9dUoVqQxDJL",
        "colab_type": "text"
      },
      "source": [
        "##### Parameter tuning"
      ]
    },
    {
      "cell_type": "code",
      "metadata": {
        "id": "UC9QgBQ3w32v",
        "colab_type": "code",
        "colab": {}
      },
      "source": [
        "xgb_trial_grid = {\n",
        "    'learning_rate': [0.05, 0.1, 0.15],\n",
        "    'max_depth': [3, 6, 9],\n",
        "    'subsample': [0.8, 0.9, 1],\n",
        "    'colsample_bytree': [0.8, 0.9, 1]\n",
        "}"
      ],
      "execution_count": 0,
      "outputs": []
    },
    {
      "cell_type": "code",
      "metadata": {
        "id": "NVll4Kmf4Twv",
        "colab_type": "code",
        "colab": {}
      },
      "source": [
        "from sklearn.model_selection import GridSearchCV"
      ],
      "execution_count": 0,
      "outputs": []
    },
    {
      "cell_type": "code",
      "metadata": {
        "id": "WRlQjKTrz2Yp",
        "colab_type": "code",
        "colab": {}
      },
      "source": [
        "xgb_grid = GridSearchCV(XGBClassifier(**xgb_params),\n",
        "                        param_grid=xgb_trial_grid,\n",
        "                        cv=10,\n",
        "                        n_jobs=-1,\n",
        "                        verbose=1)"
      ],
      "execution_count": 0,
      "outputs": []
    },
    {
      "cell_type": "code",
      "metadata": {
        "id": "h5eZtrd80LUm",
        "colab_type": "code",
        "colab": {
          "base_uri": "https://localhost:8080/",
          "height": 485
        },
        "outputId": "ee989777-2c24-4659-c724-47a84ed862ad"
      },
      "source": [
        "xgb_grid.fit(X, y)"
      ],
      "execution_count": 22,
      "outputs": [
        {
          "output_type": "stream",
          "text": [
            "Fitting 10 folds for each of 81 candidates, totalling 810 fits\n"
          ],
          "name": "stdout"
        },
        {
          "output_type": "stream",
          "text": [
            "[Parallel(n_jobs=-1)]: Using backend LokyBackend with 2 concurrent workers.\n",
            "[Parallel(n_jobs=-1)]: Done  14 tasks      | elapsed:   28.4s\n",
            "[Parallel(n_jobs=-1)]: Done  68 tasks      | elapsed:  3.9min\n",
            "[Parallel(n_jobs=-1)]: Done 158 tasks      | elapsed:  9.9min\n",
            "[Parallel(n_jobs=-1)]: Done 284 tasks      | elapsed: 18.6min\n",
            "[Parallel(n_jobs=-1)]: Done 446 tasks      | elapsed: 30.7min\n",
            "[Parallel(n_jobs=-1)]: Done 644 tasks      | elapsed: 45.3min\n",
            "[Parallel(n_jobs=-1)]: Done 810 out of 810 | elapsed: 58.9min finished\n"
          ],
          "name": "stderr"
        },
        {
          "output_type": "execute_result",
          "data": {
            "text/plain": [
              "GridSearchCV(cv=10, error_score=nan,\n",
              "             estimator=XGBClassifier(base_score=0.5, booster='gbtree',\n",
              "                                     colsample_bylevel=1, colsample_bynode=1,\n",
              "                                     colsample_bytree=1, eval_metric='auc',\n",
              "                                     gamma=0, learning_rate=0.1,\n",
              "                                     max_delta_step=0, max_depth=3,\n",
              "                                     min_child_weight=1, missing=None,\n",
              "                                     n_estimators=100, n_jobs=1, nthread=None,\n",
              "                                     objective='binary:logistic',\n",
              "                                     random_state=0, reg_alpha=0, reg_lambda=1,\n",
              "                                     scale_pos_weight=1, seed=42, silent=True,\n",
              "                                     subsample=1, verbosity=1),\n",
              "             iid='deprecated', n_jobs=-1,\n",
              "             param_grid={'colsample_bytree': [0.8, 0.9, 1],\n",
              "                         'learning_rate': [0.05, 0.1, 0.15],\n",
              "                         'max_depth': [3, 6, 9], 'subsample': [0.8, 0.9, 1]},\n",
              "             pre_dispatch='2*n_jobs', refit=True, return_train_score=False,\n",
              "             scoring=None, verbose=5)"
            ]
          },
          "metadata": {
            "tags": []
          },
          "execution_count": 22
        }
      ]
    },
    {
      "cell_type": "code",
      "metadata": {
        "id": "BQmdzUgm06Qa",
        "colab_type": "code",
        "colab": {
          "base_uri": "https://localhost:8080/",
          "height": 87
        },
        "outputId": "96571196-4760-4dbf-d62a-2e0c9cbc92aa"
      },
      "source": [
        "xgb_grid.best_params_"
      ],
      "execution_count": 23,
      "outputs": [
        {
          "output_type": "execute_result",
          "data": {
            "text/plain": [
              "{'colsample_bytree': 0.9,\n",
              " 'learning_rate': 0.05,\n",
              " 'max_depth': 3,\n",
              " 'subsample': 0.8}"
            ]
          },
          "metadata": {
            "tags": []
          },
          "execution_count": 23
        }
      ]
    },
    {
      "cell_type": "code",
      "metadata": {
        "id": "R1W6bXHN1RCS",
        "colab_type": "code",
        "colab": {
          "base_uri": "https://localhost:8080/",
          "height": 35
        },
        "outputId": "45a3b87a-f81d-43a9-b73b-f6f7d8b52ae1"
      },
      "source": [
        "xgb_grid.best_score_"
      ],
      "execution_count": 24,
      "outputs": [
        {
          "output_type": "execute_result",
          "data": {
            "text/plain": [
              "0.8217666666666666"
            ]
          },
          "metadata": {
            "tags": []
          },
          "execution_count": 24
        }
      ]
    },
    {
      "cell_type": "code",
      "metadata": {
        "id": "WAoXE_fF1VUT",
        "colab_type": "code",
        "colab": {
          "base_uri": "https://localhost:8080/",
          "height": 35
        },
        "outputId": "38fc7bfa-b2ac-48bc-a837-57317160adbe"
      },
      "source": [
        "xgb_best = xgb_grid.best_estimator_\n",
        "\n",
        "joblib.dump(xgb_best, 'models/xgb_best.joblib')"
      ],
      "execution_count": 25,
      "outputs": [
        {
          "output_type": "execute_result",
          "data": {
            "text/plain": [
              "['models/xgb_best.joblib']"
            ]
          },
          "metadata": {
            "tags": []
          },
          "execution_count": 25
        }
      ]
    },
    {
      "cell_type": "code",
      "metadata": {
        "id": "wiZHla1D1lSA",
        "colab_type": "code",
        "colab": {}
      },
      "source": [
        "files.download('models/xgb_best.joblib')"
      ],
      "execution_count": 0,
      "outputs": []
    },
    {
      "cell_type": "code",
      "metadata": {
        "id": "7Xswy_84aZtI",
        "colab_type": "code",
        "colab": {
          "base_uri": "https://localhost:8080/",
          "height": 344
        },
        "outputId": "069cf21d-6c07-489d-bea6-49c48ffe79e3"
      },
      "source": [
        "plot_feature_importances(xgb_best, X.columns)"
      ],
      "execution_count": 35,
      "outputs": [
        {
          "output_type": "display_data",
          "data": {
            "image/png": "[encoded data removed]",
            "text/plain": [
              "<Figure size 432x288 with 1 Axes>"
            ]
          },
          "metadata": {
            "tags": [],
            "needs_background": "light"
          }
        }
      ]
    },
    {
      "cell_type": "code",
      "metadata": {
        "id": "PWDVVCi2ctkI",
        "colab_type": "code",
        "colab": {}
      },
      "source": [
        "y_pred = cross_val_predict(xgb_best, X, y, cv=10)"
      ],
      "execution_count": 0,
      "outputs": []
    },
    {
      "cell_type": "code",
      "metadata": {
        "id": "wgEniPMcc1FT",
        "colab_type": "code",
        "colab": {
          "base_uri": "https://localhost:8080/",
          "height": 364
        },
        "outputId": "508ef3f6-a881-4b1e-fddb-22e78f96b410"
      },
      "source": [
        "eval_confusion_matrix(y, y_pred)"
      ],
      "execution_count": 37,
      "outputs": [
        {
          "output_type": "stream",
          "text": [
            "Confusion Matrix: \n",
            " [[22257  1107]\n",
            " [ 4240  2396]]\n",
            "TP - True Negative 22257\n",
            "FP - False Positive 1107\n",
            "FN - False Negative 4240\n",
            "TN - True Negative 2396\n",
            "\n",
            "Classification Report: \n",
            "               precision    recall  f1-score   support\n",
            "\n",
            "           0       0.84      0.95      0.89     23364\n",
            "           1       0.68      0.36      0.47      6636\n",
            "\n",
            "    accuracy                           0.82     30000\n",
            "   macro avg       0.76      0.66      0.68     30000\n",
            "weighted avg       0.81      0.82      0.80     30000\n",
            "\n",
            "Accuracy Rate: 0.8217666666666666\n",
            "Misclassification Rate: 0.17823333333333333\n"
          ],
          "name": "stdout"
        }
      ]
    },
    {
      "cell_type": "code",
      "metadata": {
        "id": "gNIHdTH6c4vB",
        "colab_type": "code",
        "colab": {
          "base_uri": "https://localhost:8080/",
          "height": 35
        },
        "outputId": "ecb589f2-efb2-49e5-e99e-513a850dce34"
      },
      "source": [
        "y_pred_proba = cross_val_predict(xgb_best, X, y, cv=10, method= 'predict_proba')\n",
        "fpr, tpr, thresholds = roc_curve(y, y_pred_proba[:, 1], pos_label=1)\n",
        "roc_auc = auc(fpr, tpr)\n",
        "\n",
        "roc_auc"
      ],
      "execution_count": 38,
      "outputs": [
        {
          "output_type": "execute_result",
          "data": {
            "text/plain": [
              "0.777598215272534"
            ]
          },
          "metadata": {
            "tags": []
          },
          "execution_count": 38
        }
      ]
    },
    {
      "cell_type": "markdown",
      "metadata": {
        "id": "OM6sCsxeihsK",
        "colab_type": "text"
      },
      "source": [
        "#### LightGBM"
      ]
    },
    {
      "cell_type": "code",
      "metadata": {
        "id": "eBHlc_R1ikNu",
        "colab_type": "code",
        "colab": {}
      },
      "source": [
        "lgbm_params = {\n",
        "    'objective': 'binary',\n",
        "    'boosting_type': 'gbdt',\n",
        "    'metric': 'auc',\n",
        "    'seed': 42\n",
        "}"
      ],
      "execution_count": 0,
      "outputs": []
    },
    {
      "cell_type": "code",
      "metadata": {
        "id": "JvHbwLUWryfM",
        "colab_type": "code",
        "colab": {
          "base_uri": "https://localhost:8080/",
          "height": 139
        },
        "outputId": "963935ee-6d6d-4cdd-f7e1-208d7858fe15"
      },
      "source": [
        "lgbm_1 = LGBMClassifier(**lgbm_params)\n",
        "lgbm_1.fit(X, y)"
      ],
      "execution_count": 69,
      "outputs": [
        {
          "output_type": "execute_result",
          "data": {
            "text/plain": [
              "LGBMClassifier(boosting_type='gbdt', class_weight=None, colsample_bytree=1.0,\n",
              "               importance_type='split', learning_rate=0.1, max_depth=-1,\n",
              "               metric='auc', min_child_samples=20, min_child_weight=0.001,\n",
              "               min_split_gain=0.0, n_estimators=100, n_jobs=-1, num_leaves=31,\n",
              "               objective='binary', random_state=None, reg_alpha=0.0,\n",
              "               reg_lambda=0.0, seed=42, silent=True, subsample=1.0,\n",
              "               subsample_for_bin=200000, subsample_freq=0)"
            ]
          },
          "metadata": {
            "tags": []
          },
          "execution_count": 69
        }
      ]
    },
    {
      "cell_type": "code",
      "metadata": {
        "id": "UQK-EtUMsNMq",
        "colab_type": "code",
        "colab": {}
      },
      "source": [
        "joblib.dump(lgbm_1, 'models/lgbm.joblib')\n",
        "# files.download('models/lgbm.joblib')"
      ],
      "execution_count": 0,
      "outputs": []
    },
    {
      "cell_type": "code",
      "metadata": {
        "id": "-9xKrQIxsjiI",
        "colab_type": "code",
        "colab": {
          "base_uri": "https://localhost:8080/",
          "height": 344
        },
        "outputId": "a0d2d396-abed-425f-e753-1b8a250034fc"
      },
      "source": [
        "plot_feature_importances(lgbm_1, X.columns)"
      ],
      "execution_count": 72,
      "outputs": [
        {
          "output_type": "display_data",
          "data": {
            "image/png": "[encoded data removed]",
            "text/plain": [
              "<Figure size 432x288 with 1 Axes>"
            ]
          },
          "metadata": {
            "tags": [],
            "needs_background": "light"
          }
        }
      ]
    },
    {
      "cell_type": "code",
      "metadata": {
        "id": "GbpgSpRdsntc",
        "colab_type": "code",
        "colab": {}
      },
      "source": [
        "y_pred = cross_val_predict(lgbm_1, X, y, cv=10)"
      ],
      "execution_count": 0,
      "outputs": []
    },
    {
      "cell_type": "code",
      "metadata": {
        "id": "Vyb7ZZlPsuaN",
        "colab_type": "code",
        "colab": {
          "base_uri": "https://localhost:8080/",
          "height": 364
        },
        "outputId": "ecfa6c61-d1ff-410e-fa8b-560f58744cf1"
      },
      "source": [
        "eval_confusion_matrix(y, y_pred)"
      ],
      "execution_count": 74,
      "outputs": [
        {
          "output_type": "stream",
          "text": [
            "Confusion Matrix: \n",
            " [[22171  1193]\n",
            " [ 4170  2466]]\n",
            "TP - True Negative 22171\n",
            "FP - False Positive 1193\n",
            "FN - False Negative 4170\n",
            "TN - True Negative 2466\n",
            "\n",
            "Classification Report: \n",
            "               precision    recall  f1-score   support\n",
            "\n",
            "           0       0.84      0.95      0.89     23364\n",
            "           1       0.67      0.37      0.48      6636\n",
            "\n",
            "    accuracy                           0.82     30000\n",
            "   macro avg       0.76      0.66      0.69     30000\n",
            "weighted avg       0.80      0.82      0.80     30000\n",
            "\n",
            "Accuracy Rate: 0.8212333333333334\n",
            "Misclassification Rate: 0.17876666666666666\n"
          ],
          "name": "stdout"
        }
      ]
    },
    {
      "cell_type": "code",
      "metadata": {
        "id": "6eMBNL6wsxK_",
        "colab_type": "code",
        "colab": {
          "base_uri": "https://localhost:8080/",
          "height": 35
        },
        "outputId": "f86ddcf9-46a4-4905-d384-3e2afe87d1b2"
      },
      "source": [
        "y_pred_proba = cross_val_predict(lgbm_1, X, y, cv=10, method= 'predict_proba')\n",
        "fpr, tpr, thresholds = roc_curve(y, y_pred_proba[:, 1], pos_label=1)\n",
        "roc_auc = auc(fpr, tpr)\n",
        "\n",
        "roc_auc"
      ],
      "execution_count": 75,
      "outputs": [
        {
          "output_type": "execute_result",
          "data": {
            "text/plain": [
              "0.7799695206836915"
            ]
          },
          "metadata": {
            "tags": []
          },
          "execution_count": 75
        }
      ]
    }
  ]
}